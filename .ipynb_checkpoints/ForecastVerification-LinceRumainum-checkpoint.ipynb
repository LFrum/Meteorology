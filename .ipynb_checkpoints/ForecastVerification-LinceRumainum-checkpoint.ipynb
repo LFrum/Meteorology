{
 "cells": [
  {
   "cell_type": "code",
   "execution_count": 35,
   "metadata": {},
   "outputs": [
    {
     "data": {
      "text/html": [
       "<style>\n",
       "div.text_cell_render{\n",
       "    background-color: #bcb;\n",
       "    }\n",
       ".rendered_html code {\n",
       "    background-color: #bcb;\n",
       "    color: #900;\n",
       "}\n",
       ".rendered_html pre {\n",
       "    background-color: #bcb;\n",
       "    color: #900;\n",
       "}\n",
       "</style>\n"
      ],
      "text/plain": [
       "<IPython.core.display.HTML object>"
      ]
     },
     "execution_count": 35,
     "metadata": {},
     "output_type": "execute_result"
    }
   ],
   "source": [
    "import matplotlib.pyplot as plt\n",
    "import urllib.request\n",
    "%matplotlib inline\n",
    "from IPython.core.display import HTML\n",
    "HTML( open('my_css.css').read() ) # if you don't have my_css.css, comment this line out"
   ]
  },
  {
   "cell_type": "markdown",
   "metadata": {},
   "source": [
    "v1.2a, 22 May 2017, by Brian Fiedler\n",
    "\n",
    "In this notebook, I will attempt to further distill the essential quantitative measures for forecast verification \n",
    "as found at this:\n",
    "[Australian web site](http://www.cawcr.gov.au/projects/verification/).\n",
    "\n",
    "For our exercise at calculating the skill of forecasts we use:\n",
    "[Verifying probability of precipitation - an example from Finland](http://www.cawcr.gov.au/projects/verification/POP3/POP3.html)\n",
    "\n",
    "Which offers this [precipitation forecast data from Finland](http://www.cawcr.gov.au/projects/verification/POP3/POP_3cat_2003.txt)\n",
    "\n",
    "Your [Student Tasks](#Student-Tasks) are at the end of this notebook, below the red line.\n"
   ]
  },
  {
   "cell_type": "markdown",
   "metadata": {},
   "source": [
    "# Brier Score"
   ]
  },
  {
   "cell_type": "markdown",
   "metadata": {},
   "source": [
    "from page 4 of [this document](http://www.swpc.noaa.gov/sites/default/files/images/u30/Ensemble%20Forecast%20Verification.pdf):\n",
    "\n",
    "<img src=\"http://metr4330.net/img/BrierScore.png\">"
   ]
  },
  {
   "cell_type": "code",
   "execution_count": 36,
   "metadata": {
    "collapsed": true
   },
   "outputs": [],
   "source": [
    "def BS(po, percent=False): # Brier Score \n",
    "    ss = 0. # sum of square differences\n",
    "    n=0\n",
    "    for p in po.keys(): # p is a probability\n",
    "        for o in po[p]: # po[p] is a list of 1's and 0's\n",
    "            if percent:\n",
    "                ss += (p/100.-o)**2 # convert percent probabilty to conventional probability \n",
    "            else:\n",
    "                ss += (p-o)**2\n",
    "            n += 1\n",
    "    return ss/n       "
   ]
  },
  {
   "cell_type": "markdown",
   "metadata": {},
   "source": [
    "Suppose, say at noon, we forecast for the occurrence of rain in the subsequent day.  The verification observations from the following day are indicated by 1 for rain, 0 for no rain.  Here is some bogus data to demonstrate the Brier Score.\n",
    "\n",
    " * In `notsuref`, the forecast PoP is either 30% or 80%.  Those PoP are not too far off from the observed frequency.  (You can experiment with making the frequency exact).\n",
    " * In `perfectf`, PoP is either 0% or 100%, and all forecasts verify perfectly.\n",
    " * In `climof`, the forecaster knows from previous data that rain occurs 0.5822 percent of the time.  Lo and behold, the next seventeen days have $\\ob$ exactly the climatological frequency, which makes this climatological forecast not too bad.\n",
    " * In `reliablef` the PoP is exactly equal to the observed frequency. BS improves slightly on `notsuref` and `climof`\n",
    " \n",
    "Note the 1s and 0s in the lists below are not necessarily in a time order."
   ]
  },
  {
   "cell_type": "code",
   "execution_count": 37,
   "metadata": {},
   "outputs": [
    {
     "name": "stdout",
     "output_type": "stream",
     "text": [
      "The Brier score for notsuref is 0.1988\n"
     ]
    }
   ],
   "source": [
    "notsuref = { 0.3 : [1,0,1,0,0,0,0,0,1,1] , 0.8 : [1,1,1,1,0,1,1]}\n",
    "print (\"The Brier score for notsuref is\",  '%0.4f' % BS(notsuref) )"
   ]
  },
  {
   "cell_type": "code",
   "execution_count": 38,
   "metadata": {
    "scrolled": true
   },
   "outputs": [
    {
     "name": "stdout",
     "output_type": "stream",
     "text": [
      "The Brier score for perfectf is 0.0000\n"
     ]
    }
   ],
   "source": [
    "perfectf = {0.0 : [0,0,0,0,0,0,0] , 1.0 : [1,1,1,1,1,1,1,1,1,1]}\n",
    "print (\"The Brier score for perfectf is\",  '%0.4f' % BS(perfectf) )"
   ]
  },
  {
   "cell_type": "code",
   "execution_count": 39,
   "metadata": {
    "scrolled": true
   },
   "outputs": [
    {
     "name": "stdout",
     "output_type": "stream",
     "text": [
      "The Brier score for climof is 0.2422\n"
     ]
    }
   ],
   "source": [
    "climof = { 0.5882 : [1,0,1,0,0,0,0,0,1,1,1,1,1,1,0,1,1 ] }\n",
    "print (\"The Brier score for climof is\",  '%0.4f' % BS(climof) )"
   ]
  },
  {
   "cell_type": "code",
   "execution_count": 40,
   "metadata": {},
   "outputs": [
    {
     "name": "stdout",
     "output_type": "stream",
     "text": [
      "The Brier score for reliablef is 0.1917\n"
     ]
    }
   ],
   "source": [
    "reliablef = { 0.4 : [1,0,1,0,0,0,0,0,1,1] , 0.875 : [1,1,1,1,0,1,1]}\n",
    "print (\"The Brier score for reliablef is\",  '%0.4f' % BS(reliablef) )"
   ]
  },
  {
   "cell_type": "markdown",
   "metadata": {},
   "source": [
    "from page 7 of [this document](http://www.swpc.noaa.gov/sites/default/files/images/u30/Ensemble%20Forecast%20Verification.pdf):\n",
    "\n",
    "<img src=\"http://metr4330.net/img/BrierScoreComponents.png\">\n",
    "\n"
   ]
  },
  {
   "cell_type": "markdown",
   "metadata": {},
   "source": [
    "## Derivation of Brier score decomposition\n",
    "\n",
    "Note that Wilks punts on the derivation in his 7.4.3 and says \"After some algebra, ...\". \n",
    "\n",
    "Well here it is! The \"some algebra\"!\n",
    "\n",
    "$\\newcommand{ob}{\\overline{o}}$  $\\newcommand{obk}{\\overline{o}_k}$ $\\newcommand{oki}{o_{ki}}$\n",
    "\\begin{eqnarray}\n",
    "\\mathbf{BS} &=& \\frac{1}{N} \\sum_{i=1}^N (p_i-o_i)^2\n",
    "\\end{eqnarray}\n",
    "\n",
    "Let's group the $o_i$ with one particular value of $p_k$. For example, maybe $p_1=0.0$, $p_2=0.1$ and so on, to $K$ distinct values of $p_k$.\n",
    "We assume there are $n_k$ values of $\\oki$ associated with one $p_k$.\n",
    "\n",
    "\\begin{eqnarray}\n",
    "\\mathbf{BS} &=& \\frac{1}{N} \\sum_{k=1}^K \\sum_{i=1}^{n_k} (p_k-\\oki)^2\\\\\n",
    " &=& \\frac{1}{N} \\sum_{k=1}^K \\sum_{i=1}^{n_k} (p_k -\\obk + \\obk-\\oki)^2 \\\\\n",
    " &=& \\frac{1}{N} \\sum_{k=1}^K \\sum_{i=1}^{n_k} \\left[ (p_k -\\obk) + (\\obk-\\oki) \\right]^2 \\\\\n",
    " &=& \\frac{1}{N} \\sum_{k=1}^K \\sum_{i=1}^{n_k}  (p_k -\\obk)^2 + \\frac{1}{N} \\sum_{k=1}^K \\sum_{i=1}^{n_k}  2(p_k -\\obk)(\\obk-\\oki) + \\frac{1}{N} \\sum_{k=1}^K \\sum_{i=1}^{n_k}(\\obk-\\oki)^2 \\\\\n",
    "\\end{eqnarray}\n",
    "The second double sum is zero, because: \n",
    "$$\n",
    "\\obk \\equiv \\frac{1}{n_k} \\sum_{k=1}^{n_k}\\oki\n",
    "$$\n",
    "The first double sum is exactly the *reliability* indicated in the above image.\n",
    "We turn our attention to the last double sum, which eventually yields the *resolution* and *uncertainty*:\n",
    "\n",
    "\\begin{eqnarray}\n",
    "\\frac{1}{N} \\sum_{k=1}^K \\sum_{i=1}^{n_k}(\\obk-\\oki)^2 &=& \\frac{1}{N} \\sum_{k=1}^K \\sum_{i=1}^{n_k}(\\obk -\\ob +\\ob -\\oki)^2 \\\\\n",
    " &=& \\frac{1}{N} \\sum_{k=1}^K \\sum_{i=1}^{n_k}\\left[ (\\obk -\\ob)^2 + 2(\\obk -\\ob)(\\ob -\\oki) + (\\ob -\\oki)^2 \\right] \\\\\n",
    " &=& \\frac{1}{N} \\sum_{k=1}^K n_k (\\obk -\\ob)^2 + \\frac{1}{N} \\sum_{k=1}^K \\sum_{i=1}^{n_k}2(\\obk -\\ob)(\\ob -\\oki) + \\frac{1}{N} \\sum_{k=1}^K \\sum_{i=1}^{n_k}(\\ob -\\oki)^2  \n",
    "\\end{eqnarray}\n",
    "\n",
    "Onward to simplifying the last two double sums in the above 3."
   ]
  },
  {
   "cell_type": "markdown",
   "metadata": {},
   "source": [
    "We again use the definition of $\\obk$. Thus the second double sum is -2 times the first:\n",
    "\n",
    "\\begin{eqnarray}\n",
    "\\frac{1}{N} \\sum_{k=1}^K \\sum_{i=1}^{n_k}2(\\obk -\\ob)(\\ob -\\oki) &=& \\frac{2}{N} \\sum_{k=1}^K (\\obk -\\ob)\\sum_{i=1}^{n_k}(\\ob -\\oki)\\\\\n",
    "&=& \\frac{2}{N} \\sum_{k=1}^K (\\obk -\\ob) n_k(\\ob -\\obk)\\\\\n",
    "&=& - \\frac{2}{N} \\sum_{k=1}^K n_k (\\obk -\\ob)^2 \\\\\n",
    "\\end{eqnarray}"
   ]
  },
  {
   "cell_type": "markdown",
   "metadata": {},
   "source": [
    "All of the $\\oki$ have a value of either 1 or 0. There are $N$ such values.  There is no need to be partitioning the sum over the various $k$, since there is no $p_k$ in the expression.\n",
    "But there is an advantage to arrange the sum over the $N_1$ values where $o_i=1$, and the $N-N_1$ values where $o_i=0$.\n",
    "\n",
    "\\begin{eqnarray}\n",
    "\\frac{1}{N} \\sum_{k=1}^K \\sum_{i=1}^{n_k}(\\ob -\\oki)^2 &=& \\frac{1}{N} \\sum_{i=1}^{N}(\\ob - o_i)^2 \\\\\n",
    "&=& \\frac{1}{N} \\left[ N_1 (\\ob - 1)^2  + (N-N_1) \\ob^2 \\right] \\\\\n",
    "&=& \\frac{1}{N} \\left[ -2 N_1 \\ob + N_1  + N \\ob^2 \\right] \\\\\n",
    "&=&  \\left[ -2 \\ob^2 + \\ob  + \\ob^2 \\right] \\\\\n",
    "&=&   \\ob  - \\ob^2  \\\\\n",
    "&=&   \\ob(1  - \\ob)  \\\\\n",
    "\\end{eqnarray}\n",
    "In the final steps we have used the fact that:\n",
    "$$\n",
    "\\ob = \\frac{N_1}{N}\n",
    "$$\n"
   ]
  },
  {
   "cell_type": "markdown",
   "metadata": {},
   "source": [
    "So now we have $\\mathbf{BS}$ decomposed into three sums: *reliability*, *resolution* and *uncertainty*. Our Python function uses the first form of $\\mathbf{BS}$, but the decomposition aids in interpreting the result.\n",
    "\n",
    "\\begin{eqnarray}\n",
    "\\mathbf{BS} &=& \\frac{1}{N} \\sum_{i=1}^N (p_i-o_i)^2\\\\\n",
    "&=& \\frac{1}{N} \\sum_{k=1}^K  n_k (p_k -\\obk)^2 - \\frac{1}{N} \\sum_{k=1}^K n_k (\\obk -\\ob)^2 +  \\ob(1  - \\ob)   \n",
    "\\end{eqnarray}\n",
    "\n",
    "Note, in the image above, the statement: \n",
    "> \"The presence of the uncertainty term means that Brier Scores should not be compared on different samples.\"\n",
    "\n",
    "I will express that differently: It is relatively easy to get low Brier scores for forecasts of events that are either very frequent,  $\\ob \\approx 1$, or very rare $\\ob \\approx 0$.  Though forecast systems for such events will produce a low $\\mathrm{BS}$, they are not necessarily better, more clever, or more skillful than  forecasts systems that produce higher $\\mathrm{BS}$ for a different type of event with $\\ob \\approx 0.5$.\n",
    "\n",
    "So we turn to calculating a [Brier skill score](http://www.cawcr.gov.au/projects/verification/#BSS) to determine how valuable our forecast system really is.\n",
    "\n",
    "$$\n",
    "\\mathrm{BSS} = \\frac{\n",
    "\\mathrm{BS}_{\\mathrm{forecast}} - \\mathrm{BS}_{\\mathrm{climo}} \n",
    "}\n",
    "{\n",
    "\\mathrm{BS}_{\\mathrm{perfect}} - \\mathrm{BS}_{\\mathrm{climo}}\n",
    "}\n",
    "= \n",
    "\\frac{\n",
    "\\mathrm{BS}_{\\mathrm{forecast}} - \\mathrm{BS}_{\\mathrm{climo}} \n",
    "}\n",
    "{\n",
    "0 - \\mathrm{BS}_{\\mathrm{climo}}\n",
    "}\n",
    "=\n",
    "1 -\n",
    "\\frac{\n",
    "\\mathrm{BS}_{\\mathrm{forecast}} \n",
    "}\n",
    "{\n",
    "\\mathrm{BS}_{\\mathrm{climo}}\n",
    "}\n",
    "$$\n",
    "\n"
   ]
  },
  {
   "cell_type": "code",
   "execution_count": 187,
   "metadata": {},
   "outputs": [
    {
     "name": "stdout",
     "output_type": "stream",
     "text": [
      "attempt to read BrooksWittEilts.txt\n"
     ]
    }
   ],
   "source": [
    "#Brooks = False # False is for default Finland data\n",
    "\n",
    "Brooks = True\n",
    "if Brooks:\n",
    "    filename=\"BrooksWittEilts.txt\" #you must have downloaded this and edited out the HTML tags\n",
    "    print(\"attempt to read\",filename)\n",
    "    lines = open(filename).readlines()\n",
    "\n",
    "else: # the Finland data\n",
    "    highprecip = False # or set this to True\n",
    "    datasite = \"http://www.cawcr.gov.au/projects/verification/POP3/\"\n",
    "    filename = \"POP_3cat_2003.txt\" # available from above site\n",
    "    print(\"attempt to read\",filename)\n",
    "    try:\n",
    "        lines = urllib.request.urlopen(datasite+filename).readlines()\n",
    "        print(\"obtained data from \"+datasite+filename)\n",
    "    except: \n",
    "        lines = open(filename).readlines()\n",
    "        print(\"obtained data locally\")   \n",
    "    \n",
    "dotmult = 4 # for scaling dot size in reliability diagram\n",
    "dpi = 98 # smaller value makes smaller plot"
   ]
  },
  {
   "cell_type": "code",
   "execution_count": 188,
   "metadata": {
    "scrolled": false
   },
   "outputs": [
    {
     "name": "stdout",
     "output_type": "stream",
     "text": [
      "OB  D1  D2  D3  D4  D5  D6  D7  D1  D2  D3  D4  D5  D6  D7  \n",
      "\n",
      "   0  40  20  20  20   0   0   0  30  40  20  20  20   0  20\n",
      "\n",
      "   0  10   0   0   0   0   0   0   0   0   0   0   0  20  30\n",
      "\n",
      "   0   0   0   0   0   0   0   0   0   0   0   0   0   0  20\n",
      "\n",
      "   0   0   0   0   0   0   0   0   0   0   0   0   0   0  20\n",
      "\n",
      "   5  30  30  30  20  20  30  20  60  40  40  40  40  40   0\n",
      "\n",
      "   0  20  20   0   0   0   0   0  20  30   0   0   0   0  20\n",
      "\n",
      "   0   0   0   0   0   0   0   0   0   0  20   0   0   0   0\n",
      "\n",
      "   0   0   0   0   0   0   0   0   0   0   0   0   0   0  20\n",
      "\n",
      "   0   0   0   0   0   0   0   0   0   0   0   0   0   0   0\n",
      "\n",
      "   0  20  10   0   0   0   0  20  20  30  20   0   0   0  20\n",
      "\n",
      "   0   0   0   0   0   0   0   0   0   0   0   0   0   0   0\n",
      "\n",
      "   0   0   0   0   0   0   0   0   0   0   0   0   0   0   0\n",
      "\n",
      "\n",
      " data type is <class 'str'>\n"
     ]
    }
   ],
   "source": [
    "#sample the first 13 lines of the data:\n",
    "for line in lines[:13]:\n",
    "    print(line)\n",
    "#    print(line.decode(encoding='UTF-8')) \n",
    "print(\"\\n data type is\",type(line)) # might be bytes, if data retrieved by urllib"
   ]
  },
  {
   "cell_type": "code",
   "execution_count": 189,
   "metadata": {},
   "outputs": [
    {
     "name": "stdout",
     "output_type": "stream",
     "text": [
      "['0', '40', '20', '20', '20', '0', '0', '0', '30', '40', '20', '20', '20', '0', '20']\n"
     ]
    }
   ],
   "source": [
    "print( lines[1].split() ) # example of splitting a line of data"
   ]
  },
  {
   "cell_type": "markdown",
   "metadata": {},
   "source": [
    "## Process the data into a dictionary \n",
    "\n",
    "`verif` will be a Python dictionary, with  keys as percents: 0, 10, 20 ... 100,\n",
    "and values a list of binary events (1's and 0's) on days forecast for that PoP.\n",
    "Why am I making the PoPs as integer percents? That seems to be safer than using a floating number as a key in\n",
    "a Python dictionary. But I am not sure my precautions were necessary.\n",
    "\n",
    "The lists items are the $\\oki$, as used in the above derivation. For a particular PoP, $k$ is fixed in the double subscript, and indicated by the key to `verif`. So the list includes all the values for every $i$ (for that $k$).\n",
    "\n",
    "STUDENT: Tasks 1, 2 and 3 require modifications that are completed entirely within the cell below. In summary: (1) compute bias correctly (2) make highprecip work (3) use Brooks data correctly"
   ]
  },
  {
   "cell_type": "code",
   "execution_count": 241,
   "metadata": {},
   "outputs": [
    {
     "name": "stdout",
     "output_type": "stream",
     "text": [
      "nt: 321\n",
      "nr: 67\n",
      "nf: 56.499999999999986\n",
      "frequency of days with rain events: 0.2087227414330218\n",
      "bias: 0.843283582089552\n"
     ]
    }
   ],
   "source": [
    "verif = {} #initialize empty dictionary\n",
    "nt = 0 # will be total number of days in dataset with non-missing forecast and obs\n",
    "nr = 0 # will be total number of days in dataset with rain\n",
    "nf = 0 # for bias calculation, will be number of days forecasted to rain, not necessarily integer\n",
    "\n",
    "\n",
    "for line in lines[1:]: #skip header line\n",
    "    v = line.split() # split line at white space\n",
    "    pop = 0\n",
    "    if Brooks:  #STUDENT, you need to replace the four zeros in this block with Python code.\n",
    "        mm = float(v[0])/100*25.4 # observed daily rainfall in millimeters\n",
    "        p1 = float(v[1])/100 # forecast 1, day 1\n",
    "        #p2 = 0\n",
    "        p2 = float(v[8])/100 # forecast 2, day 1 \n",
    "        #pop = 0\n",
    "        #rained = 0\n",
    "\n",
    "        #highprecip = False\n",
    "        \n",
    "        #if mm >= 4.5:\n",
    "        #    highprecip = True\n",
    "\n",
    "        pop = round(100*(p2))    \n",
    "        rained = ( mm >= 0.25)*1 # converts True and False to 1 and 0, 1 means rain observed on day, 0 no rain\n",
    "\n",
    "    # note in the following, daily rain amount < 0.3 mm is NOT considered a rain event\n",
    "    if not Brooks:                         \n",
    "        mm = float(v[3]) # observed daily rainfall\n",
    "        p1 = float(v[5]) # forecast probability for 0.3<= mm <= 4.4\n",
    "        p2 = float(v[6]) # forecast probability for mm >= 4.5\n",
    "        if p1<0 or p2<0 or mm>998.: continue # missing forecast or missing data \n",
    "        pop = round(100*(p1+p2)) # probability of precip, as percent ( meaning rain >= 0.3mm)\n",
    "        rained = ( mm >= 0.3 )*1 # converts True and False to 1 and 0, 1 means rain observed on day, 0 no rain\n",
    "\n",
    "        highprecip = True\n",
    "        if highprecip: #two Python lines needed below for Task 2\n",
    "            pop = round(100*(p2)) # STUDENT, 0 should be placed with Python code\n",
    "            rained = ( mm >= 4.5 )*1 # STUDENT, 0 should be replaced with Python code\n",
    "            \n",
    "        \n",
    "    if not pop in verif: verif[pop]=[]\n",
    "    nt += 1  # increment total days\n",
    "    nr += rained # increment rain days\n",
    "    nf += pop/100\n",
    "    #nf += 0 #STUDENT, 0 should be replaced with Python code\n",
    "    verif[pop].append(rained)  # append to the list of 1's and 0's\n",
    "    \n",
    "\n",
    "obar = nr/nt  # provisionally assume that the dataset average is also the climatology\n",
    "#bias = (hits + false alarms) / (hits + misses)\n",
    "#bias = 0  #STUDENT, 0 should be replaced with Python code\n",
    "print(\"nt:\",nt)\n",
    "print(\"nr:\",nr)\n",
    "print(\"nf:\",nf)\n",
    "bias = nf/nr\n",
    "print(\"frequency of days with rain events:\", obar)\n",
    "print(\"bias:\",bias)"
   ]
  },
  {
   "cell_type": "markdown",
   "metadata": {},
   "source": [
    "In the above, `obar` is $\\ob$.\n",
    "\n",
    "Note in the following inspection we see some skill: many 0 when the PoP is low, and many 1 when PoP is high:"
   ]
  },
  {
   "cell_type": "code",
   "execution_count": 242,
   "metadata": {
    "scrolled": false
   },
   "outputs": [
    {
     "name": "stdout",
     "output_type": "stream",
     "text": [
      "0 [0, 0, 0, 0, 0, 0, 0, 0, 0, 0, 0, 0, 0, 0, 0, 0, 0, 0, 0, 0, 0, 0, 0, 0, 0, 0, 0, 0, 0, 0, 0, 0, 0, 0, 0, 0, 0, 0, 0, 0, 0, 0, 0, 0, 0, 0, 0, 0, 0, 0, 0, 0, 0, 0, 0, 0, 0, 0, 0, 0, 0, 0, 0, 0, 0, 0, 0, 0, 0, 0, 0, 0, 0, 0, 0, 0, 0, 0, 0, 0, 0, 0, 0, 0, 0, 0, 0, 0, 0, 1, 0, 0, 0, 0, 0, 0, 0, 0, 0, 0, 0, 0, 0, 1, 0, 0, 0, 0, 0, 0, 0, 0, 0, 0, 0, 0, 0, 0, 0, 1, 1, 0, 0, 0, 0, 0, 0, 0, 0, 0, 0, 0, 0, 0, 0, 0, 1, 0, 0, 0, 0, 0, 0, 0, 0, 0, 0, 0, 0, 0, 0, 0, 0, 0, 0, 0, 0, 0, 0, 0, 0, 0]\n",
      "5 [0]\n",
      "10 [0, 0, 0, 0, 0, 0, 0, 0, 0, 0]\n",
      "15 [0, 0, 0, 0, 0, 0, 0, 1, 1, 0, 0, 0, 0, 0, 0]\n",
      "20 [0, 0, 0, 0, 0, 0, 0, 0, 0, 0, 0, 0, 0, 1, 1, 0, 0, 1, 0, 0, 0, 0, 1, 0, 0, 1, 1, 0, 0, 0, 0, 0, 1, 0, 0, 0, 0]\n",
      "30 [0, 1, 1, 0, 0, 0, 0, 0, 1, 0, 1, 1, 0, 0, 0, 0, 0, 1, 0, 0, 0, 1, 0, 0, 0, 1, 0, 0, 1, 1, 0, 1, 0, 1, 1, 0]\n",
      "40 [0, 0, 1, 0, 0, 1, 1, 0, 1, 1, 1, 0, 0, 1, 0, 1]\n",
      "50 [1, 1, 0, 1, 1, 1, 1, 1, 1, 0, 0, 1]\n",
      "60 [1, 1, 0, 1, 1, 0, 1, 0, 1, 1, 0, 0, 0, 1, 0, 1, 1, 1]\n",
      "70 [1, 1, 1, 1]\n",
      "80 [1, 1, 1, 1]\n",
      "90 [0, 1]\n",
      "100 [1, 1, 0, 1]\n"
     ]
    }
   ],
   "source": [
    "for PoP in sorted(verif):\n",
    "    print( PoP, verif[PoP] ) "
   ]
  },
  {
   "cell_type": "markdown",
   "metadata": {},
   "source": [
    "We calculate the Brier score from `verif`. We also calculate the Brier score for the easy climatological forecast. Just forecast one PoP on all days: forecast a PoP equal to $\\ob$.  But to really do this, you need $\\ob$ to be known before you have data for the all the subsequent forecasts.  So for this exercise, perhaps we assume the $\\ob$ for this year will be the same as for last year.  By the way, by using $\\ob$ as known in the climatology forecast helps reduce the Brier score for the climatology forecast, making it look better. "
   ]
  },
  {
   "cell_type": "code",
   "execution_count": 243,
   "metadata": {
    "scrolled": true
   },
   "outputs": [
    {
     "name": "stdout",
     "output_type": "stream",
     "text": [
      "\n",
      "PoP      observed freq     number of forecasts\n",
      "0.0 0.030864197530864196 162\n",
      "0.05 0.0 1\n",
      "0.1 0.0 10\n",
      "0.15 0.13333333333333333 15\n",
      "0.2 0.1891891891891892 37\n",
      "0.3 0.3611111111111111 36\n",
      "0.4 0.5 16\n",
      "0.5 0.75 12\n",
      "0.6 0.6111111111111112 18\n",
      "0.7 1.0 4\n",
      "0.8 1.0 4\n",
      "0.9 0.5 2\n",
      "1.0 0.75 4\n",
      "\n",
      "Brier Score: 0.10822429906542046\n",
      "Brier climo reference score: 0.16515755864170528\n",
      "Brier skill score: 0.34472088377012455\n",
      "reli: 0.0074827995181058525\n",
      "reso: 0.06441605909439102\n",
      "unc: 0.16515755864170573\n",
      "Brier as reli-reso+unc: 0.10822429906542055\n",
      "  should be close to zero bs2-bs: 9.71445146547012e-17\n"
     ]
    }
   ],
   "source": [
    "# Make the reliability diagram, and compute Brier scores, and Brier skill score\n",
    "bs = 0. # will be Brier score \n",
    "bsref = 0. # will be Brier score using climo for forecast\n",
    "nsum = 0 # will be number of events in Brier calculation; should be nsum==nt\n",
    "reli = 0. # reliability, for Brier decomposition\n",
    "reso = 0. # resolution, for Brier decomposition\n",
    "freqs = [] # freq of rain observed for that percent prediction\n",
    "nobs = [] # number of obs (for size of dot in reliability diagram)\n",
    "colors = [] # red dots will be denote skill, blue dots denote no skill\n",
    "pops = [] # list of PoP, as decimal (0., .1, ... 1.)\n",
    "print(\"\\nPoP      observed freq     number of forecasts\")\n",
    "\n",
    "for k in sorted(verif.keys()):\n",
    "    pop = k/100. # convert percent to a probability\n",
    "    q = verif[k] # list of 1's and 0's, from days with the forecasted pop\n",
    "    nobk = len(q) # number of obs\n",
    "    neventk = sum(q) # number of 1's\n",
    "    if nobk == 0: continue # skip if no days were forecast for this PoP\n",
    "    pops.append(pop) # store to use as x coord in plot \n",
    "    freq = float(neventk) / nobk # frequency of occurence\n",
    "    print(pop, freq, nobk )\n",
    "    freqs.append(freq) # for y coord\n",
    "    nobs.append(nobk) # for dot size\n",
    "    if abs(freq-obar) < abs(freq-pop): #for dot color\n",
    "        colors.append('b') # blue means no skill\n",
    "    else: \n",
    "        colors.append('r') # red means skill\n",
    "    reli += nobk*(pop-freq)**2  # increment reliability \n",
    "    reso += nobk*(freq-obar)**2 # increment resolution\n",
    "    for event in q:\n",
    "        bs += (pop-event)**2\n",
    "        bsref += (obar-event)**2 # the easy forecast: climatology\n",
    "        nsum += 1\n",
    "if nt != nsum: print(\"should be equal:\",nt,nsum)\n",
    "bs = bs/nsum # divide sum of squares by number of squares\n",
    "bsref = bsref/nsum\n",
    "print(\"\\nBrier Score:\",bs)\n",
    "print(\"Brier climo reference score:\",bsref)\n",
    "bss = 1. - bs/bsref\n",
    "print(\"Brier skill score:\",bss)\n",
    "# compute Brier decomposition\n",
    "unc = obar*(1-obar) # the uncertainty\n",
    "reli = reli/nsum # the reliability\n",
    "reso = reso/nsum # the resolution\n",
    "print(\"reli:\",reli)\n",
    "print(\"reso:\",reso)\n",
    "print(\"unc:\",unc)\n",
    "bs2 = reli - reso + unc # alternative way to calculate Brier score\n",
    "print(\"Brier as reli-reso+unc:\",bs2)\n",
    "print(\"  should be close to zero bs2-bs:\",bs2-bs) # check the bs2 = bs"
   ]
  },
  {
   "cell_type": "code",
   "execution_count": 244,
   "metadata": {
    "scrolled": true
   },
   "outputs": [
    {
     "data": {
      "text/plain": [
       "0.10822429906542054"
      ]
     },
     "execution_count": 244,
     "metadata": {},
     "output_type": "execute_result"
    }
   ],
   "source": [
    "BS(verif,percent=True) # check if our BS calculation above is consistent with our BS function"
   ]
  },
  {
   "cell_type": "code",
   "execution_count": 245,
   "metadata": {
    "scrolled": true
   },
   "outputs": [
    {
     "name": "stdout",
     "output_type": "stream",
     "text": [
      "Brier Score=0.108   RELI=0.007   RESO=0.064 UNC=0.165   Brier Skill Score=0.345   Bias=0.843\n"
     ]
    },
    {
     "data": {
      "image/png": "[encoded data removed]",
      "text/plain": [
       "<matplotlib.figure.Figure at 0xf901070550>"
      ]
     },
     "metadata": {},
     "output_type": "display_data"
    }
   ],
   "source": [
    "# Plot the reliability diagram\n",
    "quick, simple = plt.subplots(figsize=(8,8))\n",
    "\n",
    "caption_form=\"Brier Score={0:5.3f}   RELI={1:5.3f}   RESO={2:5.3f} \\\n",
    "UNC={3:5.3f}   Brier Skill Score={4:5.3f}   Bias={5:5.3f}\"\n",
    "\n",
    "caption_string=caption_form.format(bs,reli,reso,unc,bss,bias)\n",
    "print(caption_string)\n",
    "dotsize = [dotmult*x for x in nobs] # make dot area proportional to number of obs \n",
    "simple.scatter(pops,freqs,s=dotsize,c=colors,clip_on=False)\n",
    "simple.plot([0.,1.],[obar,obar],'k--') # climatology forecast\n",
    "simple.plot([0.,1.],[0,1],'k-') # probability forecast\n",
    "simple.plot([0.,1.],[obar/2., (1+obar)/2.],'k:') # no skill line\n",
    "simple.set_aspect('equal')\n",
    "simple.set_xlim([0,1]) # note xlim([0,1]) also works\n",
    "simple.set_ylim([0,1])\n",
    "simple.set_title('24 hr PoP reliability from '+filename)\n",
    "if not Brooks:\n",
    "    if highprecip: simple.set_title('24 hr PoP_hi reliability from '+filename)\n",
    "simple.set_ylabel('observed frequency')\n",
    "simple.set_xlabel('forecast probability')\n",
    "simple.text( -.3, -.12, caption_string, fontsize=9, transform=simple.transAxes) \n",
    "# http://wiki.scipy.org/Cookbook/Matplotlib/Transformations\n",
    "#signature=\"your name here!\" \n",
    "signature=\"Lince\"\n",
    "simple.text(-.1,0.,signature,fontsize=48, alpha=.1, transform = simple.transAxes) #DONE\n",
    "\n",
    "quick.savefig('reliability-Q3-Lince.png',dpi=dpi)"
   ]
  },
  {
   "cell_type": "markdown",
   "metadata": {},
   "source": [
    "# Receiver Operating Characteristic\n",
    "\n",
    "The reason for the name *Receiver Operating Characteristic* is a bit obscure in the application to weather forecasts. But in meteorology we  commonly refer to the ROC curve. In the plot below, the threshold probability for the various points is labeled. I think such labels make the ROC curve far more useful and understandable.\n",
    "\n",
    "Here is what ROC is all about. You make a binary decision based on the expectation of rainfall. Suppose for your activity, you assume the threshold PoP is 0.65. That means for PoP>.65 you take action with the presumption that rain will occur. For PoP<.65 you presume no rain will occur. The curve shows the benefits of using the forecast. A point above the diagonal shows skill. Verifying observations that are always just climatology, independent of the forecasted PoP, would yield results  along the diagonal. (Assuming the observations obey climatology). Note the threshold with label of -.001, which is exceeded on all days. The threshold of 1.001 is never exceeded.\n",
    "\n",
    "A larger area under the ROC curve implies your forecast system is more skillful.\n",
    "\n",
    "Note the definitions:\n",
    "\n",
    " * Hit rate: true positives/(true positives + missed positives)\n",
    " * False Alarm Rate: false alarms/(true negatives + false alarms) "
   ]
  },
  {
   "cell_type": "code",
   "execution_count": 15,
   "metadata": {
    "collapsed": true
   },
   "outputs": [],
   "source": [
    "# computations for ROC plot  and Relative Value plot\n",
    "climo = obar \n",
    "thresholds=[] # initialize empty lists\n",
    "hitrates=[] \n",
    "farates=[] \n",
    "ks = sorted(verif.keys()) # all the PoP percents\n",
    "cls=[n/100. for n in range(1,100) ] # C/L's for relative value curves\n",
    "rvs=[] # will be list of lists, each list defines a curve for a given C/L\n",
    "# from Wilks Fig 7.1: a=hits   b=false positives c=misses  d=true negatives\n",
    "#for k in [-5.01]+ks[:-1]+[100.0001]: # ignore last key, it cannot be a threshold\n",
    "for k in [-5.1]+ks[:] : # -5.1 makes the first threshold=-.001\n",
    "    a = 0\n",
    "    b = 0\n",
    "    c = 0\n",
    "    d = 0\n",
    "    n = 0\n",
    "# thresholds will be stored as decimal for plot labels. thresholds halfway between keys\n",
    "    threshold=k/100.+.05 #  .05 is arbitrary ... could be .01 - .09\n",
    "    if threshold>1.: threshold=1.001 # looks nicer in ROC label\n",
    "    thresholds.append(threshold) #used only for labels\n",
    "    for m in ks:\n",
    "        q=verif[m] # list of 1s and 0s\n",
    "        lq=len(q) # number of events\n",
    "        sq=sum(q) # number of positive events (1s) \n",
    "        n += lq\n",
    "        if m<=k: # the PoP is less than the threshold, forecast no rain\n",
    "            c += sq # misses\n",
    "            d += lq - sq # true negatives\n",
    "        else: # the PoP is above the threshold, forecast rain\n",
    "            a += sq # hits\n",
    "            b += lq - sq # false detections\n",
    "# Wilks page 324, Value Score\n",
    "# EE means expected expense\n",
    "# C is cost (in dollars)\n",
    "# L is loss (in dollars)\n",
    "# EE_perfect= C*climo \n",
    "# if cl<=climo, take action on all days: EE_clim = C \n",
    "# if cl>=climo, do nothing based on climo: EE_clim = L*climo \n",
    "# EE_forecast: C*a + C*b - L *c\n",
    "# vs = (EE_forecast - EE_clim)/(EE_perfect - EE_clim)\n",
    "# In the following, all terms are divided by L, so you see ratio cl=C/L\n",
    "    rv=[] # will be a list of value score, for the threshold\n",
    "    n=float(n) # needed for python2, otherwise integer divide yields 0\n",
    "    for cl in cls:\n",
    "        if cl<climo: \n",
    "            vs = ( cl*( a/n + b/n) + c/n  -cl )/( cl*climo - cl )   \n",
    "        else:\n",
    "            vs = ( cl*( a/n + b/n) + c/n - climo )/( cl*climo - climo)\n",
    "        rv.append(vs)\n",
    "    rvs.append(rv) # append completed list         \n",
    "    hitrates.append( float(a)/(a+c) )\n",
    "# see Wilks 7.11 and 7.13 for distinction between FA rate and ratio!!\n",
    "#    farates.append( float(b)/(a+b) ) # false alarm RATIO, not correct for RoC\n",
    "    farates.append( float(b)/(d+b) ) # false alarm RATE,  correct for RoC curve\n",
    "area=0. # initialize computation of area under ROC curve, bigger area -> better forecasts\n",
    "for n in range( len(hitrates) -1 ):\n",
    "    area += -.5*(hitrates[n+1]+hitrates[n])*(farates[n+1]-farates[n])\n",
    "areaf= \"%5.4f\" % area # will be included in plot title\n",
    "#print(farates,hitrates)"
   ]
  },
  {
   "cell_type": "code",
   "execution_count": 16,
   "metadata": {
    "scrolled": false
   },
   "outputs": [
    {
     "data": {
      "image/png": "[encoded data removed]",
      "text/plain": [
       "<Figure size 432x432 with 1 Axes>"
      ]
     },
     "metadata": {
      "needs_background": "light"
     },
     "output_type": "display_data"
    }
   ],
   "source": [
    "# plot ROC curve\n",
    "mfig, ax = plt.subplots(figsize=(6,6))\n",
    "ax.plot(farates,hitrates,'ok-',clip_on=False)\n",
    "ax.plot([0.,1.],[0,1],'k:')\n",
    "ax.set_title('ROC , area='+areaf)\n",
    "ax.set_xlabel('False Alarm Rate')\n",
    "ax.set_ylabel('Hit Rate')\n",
    "ax.set_aspect('equal') # square plot\n",
    "ax.set_xlim([0,1])\n",
    "ax.set_ylim([0,1])\n",
    "i=0\n",
    "for x,y in zip(farates,hitrates):\n",
    "    thresh = ' %5.3f' % thresholds[i]\n",
    "    ax.text(x,y,thresh,fontsize=12) # label each point in ROC with threshold\n",
    "    i+=1\n",
    "mfig.savefig('ROC.png',dpi=dpi)"
   ]
  },
  {
   "cell_type": "markdown",
   "metadata": {},
   "source": [
    "# Relative Value Curves\n",
    "\n",
    "Which threshold in PoP should trigger an action?\n",
    "\n",
    "Relative value curves show the economic value of your binary decisions, based on the thresholds that were also used for the ROC. \n",
    "\n",
    "For example, if your cost is C=\\$6 to bring an umbrella when you expect rain, and your loss is L=\\$10 when it rains on you without your umbrella, your C/L ratio is 0.6. At 0.6, you can see that your maximum Relative Value is about 0.2. The red envelope curve is coincident with the curve labeled 0.750. So the maximum economic benefit occurs if you use a PoP of 75% for your threshold. This means you should bring your umbrella only when the PoP is forecasted to be 80%, 90% or 100%. The Relative Value of 20% means the economic benefit of using these imperfect forecasts is 20% of the value of perfect forecasts. "
   ]
  },
  {
   "cell_type": "code",
   "execution_count": 17,
   "metadata": {
    "scrolled": false
   },
   "outputs": [
    {
     "name": "stdout",
     "output_type": "stream",
     "text": [
      "\n",
      "Relative value curves\n",
      "m= 0    threshold= -0.001   max rv= -0.000\n",
      "m= 1    threshold= 0.050   max rv= 0.157\n",
      "m= 2    threshold= 0.150   max rv= 0.348\n",
      "m= 3    threshold= 0.250   max rv= 0.489\n",
      "m= 4    threshold= 0.350   max rv= 0.562\n",
      "m= 5    threshold= 0.450   max rv= 0.568\n",
      "m= 6    threshold= 0.550   max rv= 0.520\n",
      "m= 7    threshold= 0.650   max rv= 0.509\n",
      "m= 8    threshold= 0.750   max rv= 0.381\n",
      "m= 9    threshold= 0.850   max rv= 0.215\n",
      "m= 10    threshold= 0.950   max rv= 0.128\n",
      "m= 11    threshold= 1.001   max rv= -0.000\n"
     ]
    },
    {
     "data": {
      "image/png": "[encoded data removed]",
      "text/plain": [
       "<Figure size 576x432 with 1 Axes>"
      ]
     },
     "metadata": {
      "needs_background": "light"
     },
     "output_type": "display_data"
    }
   ],
   "source": [
    "# plot relative value curves\n",
    "thefig, bx = plt.subplots(figsize=(8,6)) \n",
    "rvmax=[] # list for envelope curve\n",
    "for i in range(len(rvs[0])): # cycle through each C/L\n",
    "    rvmax.append( max([ rv[i]  for rv in rvs]) ) # max at the C/L\n",
    "m=0\n",
    "print(\"\\nRelative value curves\")\n",
    "for rv in rvs: # plot relative value curve for each threshold\n",
    "    thresh = '%5.3f' % thresholds[m]\n",
    "    maxrv = '%5.3f' % max(rv)\n",
    "    print(\"m=\",m,\"   threshold=\",thresh,\"  max rv=\",maxrv)\n",
    "    if m==5:   \n",
    "        bx.plot(cls,rv,'g-') # green for threshold=.45 is of interest here\n",
    "    else:\n",
    "        bx.plot(cls,rv,'k-') \n",
    "    xy = list(zip(cls,rv)) #prepare to make labels\n",
    "    xy.reverse() # (x,y) coordinates are now from right to left\n",
    "    for x,y in xy :\n",
    "        if y>-.05: # put label at first x point from right where y>-.05 \n",
    "            bx.text(x,y,thresh,fontsize=6) # label each curve with threshold\n",
    "            break #stop looking for place to put label\n",
    "    m+=1\n",
    "\n",
    "bx.plot(cls,rvmax,'r-',lw=3,zorder=0) #red envelope; zorder=0 puts it under other curves\n",
    "bx.plot([0.,1.],[0,0],'b:',lw=3)\n",
    "bx.set_xlim( [0,1] ) # shortcut for axes().set_xlim([0,1])\n",
    "bx.set_ylim( [-.2,1] )\n",
    "bx.set_xlabel(\"Cost/Loss Ratio\")\n",
    "bx.set_ylabel(\"Relative Value\")\n",
    "bx.grid(True)\n",
    "thefig.savefig('RelaVal.png',dpi=dpi)"
   ]
  },
  {
   "cell_type": "markdown",
   "metadata": {},
   "source": [
    "<hr style=\"height:6px;border:none;background-color:#0f0;\" />\n",
    "\n",
    "## Appendix\n",
    "\n",
    "Here are some clean functions that may be useful to you. Both accept a Python dictionary with keys as floating poing probabilities (or percents) and values as lists of ones and zeros.\n",
    "\n",
    "I don't use these functions in this notebook, but will keep them here for future use."
   ]
  },
  {
   "cell_type": "code",
   "execution_count": 186,
   "metadata": {
    "collapsed": true
   },
   "outputs": [],
   "source": [
    "def calcobar(po): \n",
    "    eventsum = 0\n",
    "    nsum = 0\n",
    "    for q in po.values():\n",
    "        nsum += len(q) # number of obs\n",
    "        eventsum += sum(q) # number of 1's\n",
    "    return eventsum/nsum\n",
    "\n",
    "def BS2(po,percent=False):\n",
    "    reso = 0\n",
    "    reli = 0\n",
    "    nsum = 0\n",
    "    obar = calcobar(po)\n",
    "    for k,q in po.items():\n",
    "        p = k\n",
    "        if percent: \n",
    "            p = p/100\n",
    "        nobk = len(q) # number of obs\n",
    "        neventk = sum(q) # number of 1's\n",
    "        if nobk == 0: continue # skip if no days were forecast for this PoP\n",
    "        freq = neventk / nobk # frequency of occurence\n",
    "        reli += nobk*(p-freq)**2  # increment reliability \n",
    "        reso += nobk*(freq-obar)**2 # increment resolution\n",
    "        nsum += nobk\n",
    "    unc = obar*(1-obar) # uncertainty term\n",
    "    reli = reli/nsum # reliability term\n",
    "    reso = reso/nsum # resolution term\n",
    "    bs2 = reli - reso + unc\n",
    "    return (bs2,reli,reso,unc)  #Done    "
   ]
  },
  {
   "cell_type": "code",
   "execution_count": 187,
   "metadata": {},
   "outputs": [
    {
     "name": "stdout",
     "output_type": "stream",
     "text": [
      "The Brier score using BS: 0.1057\n",
      "The Brier score and deompostion using BS2: (0.10573208722741431, 0.005367132449167756, 0.055475924095211564, 0.15584087887345813)\n",
      "The Brier score using BS2: 0.1057\n"
     ]
    }
   ],
   "source": [
    "thedata = verif # try thedata=notsuref , or thedata=verif\n",
    "bs = BS(thedata,percent=True)\n",
    "print (\"The Brier score using BS:\",  '%0.4f' % bs )\n",
    "bs2 = BS2(thedata,percent=True) \n",
    "print(\"The Brier score and deompostion using BS2:\",bs2)\n",
    "print (\"The Brier score using BS2:\",  '%0.4f' % bs2[0] )"
   ]
  },
  {
   "cell_type": "markdown",
   "metadata": {},
   "source": [
    "<hr style=\"height:6px;border:none;background-color:#f00;\" />\n",
    "\n",
    "## Student Tasks\n",
    "\n",
    "The student tasks here emphasize the Reliability Diagram. Though ability with ROC curves and RV curves is valuable, no tasks have been formulated about ROC and RV. All the student tasks are completed with simple modifications in the cell begining with `verif = {} #initialize empty dictionary`. But read below for the definition of the tasks."
   ]
  },
  {
   "cell_type": "markdown",
   "metadata": {},
   "source": [
    "### 1. Bias Score\n",
    "\n",
    "A definition of bias score for binary forecasts such as these (e.g. rain or does not rain) \n",
    "can be found [here](http://www.cawcr.gov.au/projects/verification/verif_web_page.html#BIAS). Scan for word `STUDENT`\n",
    "in this notebook to finish the coding for the calculation of the bias score for the forecasts, and include it in the image like the one below.\n",
    "\n",
    "<img src=\"http://metr4330.net/img/reliability_with_bias.png\" width=500 >\n",
    "\n"
   ]
  },
  {
   "cell_type": "markdown",
   "metadata": {},
   "source": [
    "### 2. The 24 hr high PoP >= 4.5 mm\n",
    "\n",
    "Now reproduce the analysis of the 24 hr PoPhi forecasts as described at [Verifying probability of precipitation - an example from Finland](http://www.cawcr.gov.au/projects/verification/POP3/POP3.html)\n",
    "\n",
    "The goal is to produce this image: \n",
    "\n",
    "<img src=\"http://metr4330.net/img/reliability_hi.png\" width=500>"
   ]
  },
  {
   "cell_type": "markdown",
   "metadata": {},
   "source": [
    "### 3. The Brooks et al. data set \n",
    "\n",
    "Here we use an alternative [Brooks et al. data set](http://www.nssl.noaa.gov/users/brooks/public_html/media/pop.html)\n",
    "\n",
    "Scan through the file. There seems to be no issues with missing data.\n",
    "\n",
    "Download and save the file into your notebook directory.  You should edit the file, and remove the html and text at the beginning and end. You should rename the file. \n",
    "\n",
    "But read the text at the beginning before you delete it! That has the information you need to configure the code marked with `#STUDENT`.\n",
    "\n",
    "Here is the publication describing the analysis:\n",
    "\n",
    "[Verification of Public Weather Forecasts Available via the Media](http://tinyurl.com/BrooksWittEilts) by Harold E. Brooks, Arthur Witt, and Michael D. Eilts\n",
    "\n",
    "Note this figure, in particular the image on the left, with the black data points `FS#2`:\n",
    "\n",
    "<img src=\"http://metr4330.net/img/BrooksWittEilts.png\" width=700>\n",
    "\n",
    " * For your education, you may want to reproduce the above Brooks et al. image as 4 separate reliability diagrams.\n",
    " * But to pass this sub-task 3, you need to *submit only one reliability diagram*, the `FS#2 D1` diagram:\n",
    "\n",
    "This is what you are shooting for:\n",
    "<img src=\"http://metr4330.net/img/reliability_Brooks.png\" width=500>\n"
   ]
  },
  {
   "cell_type": "markdown",
   "metadata": {
    "collapsed": true
   },
   "source": [
    "<hr style=\"height:6px;border:none;background-color:#00f;\" />\n",
    "\n",
    "## For your Quiz #3\n"
   ]
  },
  {
   "cell_type": "code",
   "execution_count": 306,
   "metadata": {
    "collapsed": true
   },
   "outputs": [],
   "source": [
    "def calcbias(po,percent=False): \n",
    "    eventsum = 0\n",
    "    nf = 0\n",
    "    for p,q in po.items(): #p will be a forecasted probability and q will be a list of 1s and 0s\n",
    "        print()\n",
    "        if percent == True: p=p/100 # convert probabilities if they are percents\n",
    "        nf += p*len(q) # predicted number of 1's, not necesarily an integer\n",
    "        eventsum += sum(q) # observed number of 1's\n",
    "    #return None # students: you must fix this line to return the bias value, a floating point number\n",
    "    #print(\"nf:\", nf)\n",
    "    #print(\"eventsum:\", eventsum)\n",
    "    return round(nf / (eventsum),2)"
   ]
  },
  {
   "cell_type": "code",
   "execution_count": 307,
   "metadata": {
    "collapsed": true
   },
   "outputs": [],
   "source": [
    "# A contest has been held to forecast days when rain occurs.\n",
    "# A day with observed rain is indicated by 1. Without rain by 0.\n",
    "# The observations for the 8 days of the contest: [1,0,0,0,0,1,1,1]\n",
    "# Each item in the dictionary \"contest\" is also a dictionary.\n",
    "# Those dictionaries have keys of a forecasted probability and the items are\n",
    "# lists of observations of events that happened on those days with that forecasted probability.\n",
    "# Note: cf is the person who always forecasts the probility of 0.4, which is simply based on past climate.\n",
    "# rf is the person who always forecasts rain, and so on...\n",
    "\n",
    "contest = {\n",
    "'af' : {0.0: [1,0,0,0] , 1.0:[0,1,1,1] },\n",
    "'bf' :{0.25: [1,0,0,0] , .75:[0,1,1,1] },\n",
    "'cf' :{0.4: [1,0,0,0,0,1,1,1] },\n",
    "'df' : {0.25: [0,0,0] , 1.0:[1,1,1,1,0] },\n",
    "'ef' : {0.25: [0,0,0,0] , .75:[1,1,1,1] },\n",
    "'pf' : {0.0: [0,0,0,0] , 1.0:[1,1,1,1] },\n",
    "'rf' :{1.0: [1,0,0,0,0,1,1,1] },\n",
    "}"
   ]
  },
  {
   "cell_type": "code",
   "execution_count": 324,
   "metadata": {},
   "outputs": [
    {
     "name": "stdout",
     "output_type": "stream",
     "text": [
      "\n",
      "\n",
      "0.25 0.25999999999999995\n",
      "i: af\n",
      "bs2out: (0.25, 0.0625, 0.0625, 0.25)\n",
      "bias: 1.0\n",
      "bss: 0.038461538461538325\n",
      "\n",
      "\n",
      "0.1875 0.25999999999999995\n",
      "i: bf\n",
      "bs2out: (0.1875, 0.0, 0.0625, 0.25)\n",
      "bias: 1.0\n",
      "bss: 0.27884615384615374\n",
      "\n",
      "0.26 0.25999999999999995\n",
      "i: cf\n",
      "bs2out: (0.26, 0.009999999999999995, 0.0, 0.25)\n",
      "bias: 0.8\n",
      "bss: -2.220446049250313e-16\n",
      "\n",
      "\n",
      "0.14843749999999997 0.25999999999999995\n",
      "i: df\n",
      "bs2out: (0.14843749999999997, 0.04843749999999999, 0.15000000000000002, 0.25)\n",
      "bias: 1.44\n",
      "bss: 0.42908653846153844\n",
      "\n",
      "\n",
      "0.0625 0.25999999999999995\n",
      "i: ef\n",
      "bs2out: (0.0625, 0.0625, 0.25, 0.25)\n",
      "bias: 1.0\n",
      "bss: 0.7596153846153846\n",
      "\n",
      "\n",
      "0.0 0.25999999999999995\n",
      "i: pf\n",
      "bs2out: (0.0, 0.0, 0.25, 0.25)\n",
      "bias: 1.0\n",
      "bss: 1.0\n",
      "\n",
      "0.5 0.25999999999999995\n",
      "i: rf\n",
      "bs2out: (0.5, 0.25, 0.0, 0.25)\n",
      "bias: 2.0\n",
      "bss: -0.9230769230769234\n"
     ]
    }
   ],
   "source": [
    "for i in sorted(contest.keys()):\n",
    "    f = contest[i] # f will be a contestant's forecast dictionary\n",
    "    #(bs2,reli,reso,unc)\n",
    "    bs2out = BS2(f) # The Brier score and decomposition using BS2\n",
    "    bias = calcbias(f) # The bias, after you fix calcbias\n",
    "    # bss will be the Brier Skill Score. You need to fix it.\n",
    "    # You will need the Brier Score, bs2out[0], for cf.\n",
    "    #print(\"bs2out:\",bs2out)\n",
    "    #bss = 0. # 0 is not correct. \n",
    "\n",
    "    reli = bs2out[1]\n",
    "    reso = bs2out[2]\n",
    "    unc = bs2out[3]\n",
    "    bs = reli - reso + unc\n",
    "    #bs = BS(f)\n",
    "    bsref = BS(contest['cf'])\n",
    "    print(bs,bsref)\n",
    "    bss = 1. - bs/bsref\n",
    "    \n",
    "    print (\"i:\", i)\n",
    "    print (\"bs2out:\",bs2out)  # bias and bss need to be fixed by you\n",
    "    print (\"bias:\",bias)\n",
    "    print (\"bss:\",bss)"
   ]
  },
  {
   "cell_type": "code",
   "execution_count": 322,
   "metadata": {},
   "outputs": [
    {
     "name": "stdout",
     "output_type": "stream",
     "text": [
      "{0.4: [1, 0, 0, 0, 0, 1, 1, 1]}\n",
      "0.25999999999999995\n"
     ]
    }
   ],
   "source": [
    "print(contest['cf'])\n",
    "print(BS(contest['cf']))"
   ]
  },
  {
   "cell_type": "code",
   "execution_count": 321,
   "metadata": {},
   "outputs": [
    {
     "name": "stdout",
     "output_type": "stream",
     "text": [
      "{0.0: [1, 0, 0, 0], 1.0: [0, 1, 1, 1]}\n",
      "0.25\n",
      "{0.25: [1, 0, 0, 0], 0.75: [0, 1, 1, 1]}\n",
      "0.1875\n",
      "{0.4: [1, 0, 0, 0, 0, 1, 1, 1]}\n",
      "0.25999999999999995\n",
      "{0.25: [0, 0, 0], 1.0: [1, 1, 1, 1, 0]}\n",
      "0.1484375\n",
      "{0.25: [0, 0, 0, 0], 0.75: [1, 1, 1, 1]}\n",
      "0.0625\n",
      "{0.0: [0, 0, 0, 0], 1.0: [1, 1, 1, 1]}\n",
      "0.0\n",
      "{1.0: [1, 0, 0, 0, 0, 1, 1, 1]}\n",
      "0.5\n"
     ]
    }
   ],
   "source": [
    "for i in sorted(contest.keys()):\n",
    "    f = contest[i]\n",
    "    print(f)\n",
    "    print(BS(f))"
   ]
  },
  {
   "cell_type": "code",
   "execution_count": null,
   "metadata": {
    "collapsed": true
   },
   "outputs": [],
   "source": []
  }
 ],
 "metadata": {
  "anaconda-cloud": {},
  "kernelspec": {
   "display_name": "Python 3",
   "language": "python",
   "name": "python3"
  },
  "language_info": {
   "codemirror_mode": {
    "name": "ipython",
    "version": 3
   },
   "file_extension": ".py",
   "mimetype": "text/x-python",
   "name": "python",
   "nbconvert_exporter": "python",
   "pygments_lexer": "ipython3",
   "version": "3.6.1"
  }
 },
 "nbformat": 4,
 "nbformat_minor": 1
}
